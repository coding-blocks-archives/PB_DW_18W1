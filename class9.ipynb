{
 "cells": [
  {
   "cell_type": "code",
   "execution_count": 10,
   "metadata": {},
   "outputs": [],
   "source": [
    "class Fruit:\n",
    "    def __init__(self, color, taste):\n",
    "        self.color = color\n",
    "        self.taste = taste\n",
    "    \n",
    "    def get_color(self):\n",
    "        return self.color\n",
    "    \n",
    "    def get_taste(self):\n",
    "        return self.taste\n",
    "    \n",
    "    def set_color(self, color):\n",
    "        self.color = color\n",
    "    \n",
    "    def set_taste(self, taste):\n",
    "        self.taste = taste\n",
    "\n",
    "orange = Fruit('orange' , 'sour')    \n",
    "\n",
    "class Mango(Fruit):\n",
    "    all_types = {'winter': 'alphonso' , 'summers': 'dusheri' , 'spring': 'safeda' , 'monsoon': 'chausa'}\n",
    "    def __init__(self, season, color, taste):\n",
    "        super().__init__(color, taste)\n",
    "        if season in Mango.all_types:\n",
    "            self.type_of = Mango.all_types[season]\n",
    "    def get_type(self):\n",
    "        return self.type_of"
   ]
  },
  {
   "cell_type": "code",
   "execution_count": 2,
   "metadata": {},
   "outputs": [
    {
     "data": {
      "text/plain": [
       "'orange'"
      ]
     },
     "execution_count": 2,
     "metadata": {},
     "output_type": "execute_result"
    }
   ],
   "source": [
    "orange.get_color()"
   ]
  },
  {
   "cell_type": "code",
   "execution_count": 3,
   "metadata": {},
   "outputs": [
    {
     "data": {
      "text/plain": [
       "'sour'"
      ]
     },
     "execution_count": 3,
     "metadata": {},
     "output_type": "execute_result"
    }
   ],
   "source": [
    "orange.get_taste()"
   ]
  },
  {
   "cell_type": "code",
   "execution_count": 5,
   "metadata": {},
   "outputs": [],
   "source": [
    "orange.set_color('yellow')"
   ]
  },
  {
   "cell_type": "code",
   "execution_count": 6,
   "metadata": {},
   "outputs": [
    {
     "data": {
      "text/plain": [
       "'yellow'"
      ]
     },
     "execution_count": 6,
     "metadata": {},
     "output_type": "execute_result"
    }
   ],
   "source": [
    "orange.get_color()"
   ]
  },
  {
   "cell_type": "code",
   "execution_count": 13,
   "metadata": {},
   "outputs": [],
   "source": [
    "mango_1 = Mango('winter', 'yellow', 'sweet')"
   ]
  },
  {
   "cell_type": "code",
   "execution_count": 14,
   "metadata": {},
   "outputs": [
    {
     "data": {
      "text/plain": [
       "'alphonso'"
      ]
     },
     "execution_count": 14,
     "metadata": {},
     "output_type": "execute_result"
    }
   ],
   "source": [
    "mango_1.get_type()"
   ]
  },
  {
   "cell_type": "code",
   "execution_count": 17,
   "metadata": {},
   "outputs": [
    {
     "name": "stdout",
     "output_type": "stream",
     "text": [
      "{}\n",
      "updating key - mango, to value -yellow\n",
      "{'mango': 'yellow'}\n"
     ]
    }
   ],
   "source": [
    "class LogMyDictionary(dict):\n",
    "    def __setitem__(self, key, value):\n",
    "        print('updating key - {0}, to value -{1}'.format(key, value))\n",
    "        super().__setitem__(key, value)\n",
    "        \n",
    "d1 = LogMyDictionary()\n",
    "print(d1)\n",
    "d1['mango']  = 'yellow'\n",
    "print(d1)"
   ]
  },
  {
   "cell_type": "code",
   "execution_count": 18,
   "metadata": {},
   "outputs": [
    {
     "ename": "ZeroDivisionError",
     "evalue": "division by zero",
     "output_type": "error",
     "traceback": [
      "\u001b[0;31m---------------------------------------------------------------------------\u001b[0m",
      "\u001b[0;31mZeroDivisionError\u001b[0m                         Traceback (most recent call last)",
      "\u001b[0;32m<ipython-input-18-0b280f36835c>\u001b[0m in \u001b[0;36m<module>\u001b[0;34m()\u001b[0m\n\u001b[0;32m----> 1\u001b[0;31m \u001b[0;36m10\u001b[0m \u001b[0;34m*\u001b[0m \u001b[0;34m(\u001b[0m\u001b[0;36m1\u001b[0m\u001b[0;34m/\u001b[0m\u001b[0;36m0\u001b[0m\u001b[0;34m)\u001b[0m\u001b[0;34m\u001b[0m\u001b[0m\n\u001b[0m",
      "\u001b[0;31mZeroDivisionError\u001b[0m: division by zero"
     ]
    }
   ],
   "source": [
    "10 * (1/0)"
   ]
  },
  {
   "cell_type": "code",
   "execution_count": 19,
   "metadata": {},
   "outputs": [
    {
     "ename": "NameError",
     "evalue": "name 'x' is not defined",
     "output_type": "error",
     "traceback": [
      "\u001b[0;31m---------------------------------------------------------------------------\u001b[0m",
      "\u001b[0;31mNameError\u001b[0m                                 Traceback (most recent call last)",
      "\u001b[0;32m<ipython-input-19-9d24be32bd0c>\u001b[0m in \u001b[0;36m<module>\u001b[0;34m()\u001b[0m\n\u001b[0;32m----> 1\u001b[0;31m \u001b[0;36m4\u001b[0m \u001b[0;34m+\u001b[0m \u001b[0mx\u001b[0m\u001b[0;34m*\u001b[0m\u001b[0;36m5\u001b[0m\u001b[0;34m\u001b[0m\u001b[0m\n\u001b[0m",
      "\u001b[0;31mNameError\u001b[0m: name 'x' is not defined"
     ]
    }
   ],
   "source": [
    "4 + x*5"
   ]
  },
  {
   "cell_type": "code",
   "execution_count": 20,
   "metadata": {},
   "outputs": [
    {
     "ename": "TypeError",
     "evalue": "must be str, not int",
     "output_type": "error",
     "traceback": [
      "\u001b[0;31m---------------------------------------------------------------------------\u001b[0m",
      "\u001b[0;31mTypeError\u001b[0m                                 Traceback (most recent call last)",
      "\u001b[0;32m<ipython-input-20-d2b23a1db757>\u001b[0m in \u001b[0;36m<module>\u001b[0;34m()\u001b[0m\n\u001b[0;32m----> 1\u001b[0;31m \u001b[0;34m'2'\u001b[0m \u001b[0;34m+\u001b[0m \u001b[0;36m2\u001b[0m\u001b[0;34m\u001b[0m\u001b[0m\n\u001b[0m",
      "\u001b[0;31mTypeError\u001b[0m: must be str, not int"
     ]
    }
   ],
   "source": [
    "'2' + 2"
   ]
  },
  {
   "cell_type": "code",
   "execution_count": 44,
   "metadata": {},
   "outputs": [],
   "source": [
    "def divide(x,y):\n",
    "    try:\n",
    "        result = x/y\n",
    "        print(result)\n",
    "        if type(x) == float:\n",
    "            raise Exception('floats are not allowed')\n",
    "    #except ZeroDivisionError:\n",
    "     #   print('division by zero is not allowed.')\n",
    "    #except TypeError:\n",
    "     #   print('operands should be integers or float')\n",
    "    except Exception as err:\n",
    "        print(err , 'something bad happened.')\n",
    "    else:\n",
    "        print('result is computed')\n",
    "    finally:\n",
    "        print('final clause')\n",
    "        "
   ]
  },
  {
   "cell_type": "code",
   "execution_count": 45,
   "metadata": {},
   "outputs": [
    {
     "name": "stdout",
     "output_type": "stream",
     "text": [
      "0.6666666666666666\n",
      "result is computed\n",
      "final clause\n"
     ]
    }
   ],
   "source": [
    "divide(2,3)"
   ]
  },
  {
   "cell_type": "code",
   "execution_count": 47,
   "metadata": {},
   "outputs": [
    {
     "name": "stdout",
     "output_type": "stream",
     "text": [
      "division by zero something bad happened.\n",
      "final clause\n"
     ]
    }
   ],
   "source": [
    "divide(2,0)"
   ]
  },
  {
   "cell_type": "code",
   "execution_count": 48,
   "metadata": {},
   "outputs": [
    {
     "name": "stdout",
     "output_type": "stream",
     "text": [
      "unsupported operand type(s) for /: 'str' and 'int' something bad happened.\n",
      "final clause\n"
     ]
    }
   ],
   "source": [
    "divide('hello', 2)"
   ]
  },
  {
   "cell_type": "code",
   "execution_count": 49,
   "metadata": {},
   "outputs": [
    {
     "name": "stdout",
     "output_type": "stream",
     "text": [
      "0.3666666666666667\n",
      "floats are not allowed something bad happened.\n",
      "final clause\n"
     ]
    }
   ],
   "source": [
    "divide(2.2 , 6)"
   ]
  },
  {
   "cell_type": "code",
   "execution_count": 65,
   "metadata": {},
   "outputs": [
    {
     "name": "stdout",
     "output_type": "stream",
     "text": [
      "<_io.TextIOWrapper name='story.txt' mode='r' encoding='UTF-8'>\n"
     ]
    }
   ],
   "source": [
    "file = open('story.txt' , 'r')\n",
    "print(file)"
   ]
  },
  {
   "cell_type": "code",
   "execution_count": 51,
   "metadata": {},
   "outputs": [
    {
     "name": "stdout",
     "output_type": "stream",
     "text": [
      "There was an old owl that lived in an oak. Everyday he saw incidents happening around him.\n",
      "Yesterday he saw a boy helping an old man to carry a heavy basket.\n",
      "Today he saw a girl shouting at her mother. The more he saw the less he spoke.\n",
      "As he spoke less, he heard more. He heard people talking and telling stories.\n",
      "He heard a woman saying that an elephant jumped over a fence.\n",
      "He also heard a man saying that he had never made a mistake.\n",
      "The old owl had seen and heard about what happened to people.\n",
      "Some became better and some became worse. But the old owl had become wiser each and every day.\n"
     ]
    }
   ],
   "source": [
    "print(file.read())"
   ]
  },
  {
   "cell_type": "code",
   "execution_count": 57,
   "metadata": {},
   "outputs": [
    {
     "name": "stdout",
     "output_type": "stream",
     "text": [
      "There was an old owl that lived in an oak. Everyday he saw incidents happening around him.\n",
      "\n",
      "Yesterday he saw a boy helping an old man to carry a heavy basket.\n",
      "\n",
      "Today he saw a girl shouting at her mother. The more he saw the less he spoke.\n",
      "\n",
      "As he spoke less, he heard more. He heard people talking and telling stories.\n",
      "\n",
      "He heard a woman saying that an elephant jumped over a fence.\n",
      "\n",
      "He also heard a man saying that he had never made a mistake.\n",
      "\n",
      "The old owl had seen and heard about what happened to people.\n",
      "\n",
      "Some became better and some became worse. But the old owl had become wiser each and every day.\n"
     ]
    }
   ],
   "source": [
    "for line in file.readlines():\n",
    "    print(line)"
   ]
  },
  {
   "cell_type": "code",
   "execution_count": 58,
   "metadata": {},
   "outputs": [
    {
     "data": {
      "text/plain": [
       "False"
      ]
     },
     "execution_count": 58,
     "metadata": {},
     "output_type": "execute_result"
    }
   ],
   "source": [
    "file.closed"
   ]
  },
  {
   "cell_type": "code",
   "execution_count": 64,
   "metadata": {},
   "outputs": [],
   "source": [
    "file.close()"
   ]
  },
  {
   "cell_type": "code",
   "execution_count": 60,
   "metadata": {},
   "outputs": [
    {
     "data": {
      "text/plain": [
       "True"
      ]
     },
     "execution_count": 60,
     "metadata": {},
     "output_type": "execute_result"
    }
   ],
   "source": [
    "file.closed"
   ]
  },
  {
   "cell_type": "code",
   "execution_count": 61,
   "metadata": {},
   "outputs": [
    {
     "ename": "ValueError",
     "evalue": "I/O operation on closed file.",
     "output_type": "error",
     "traceback": [
      "\u001b[0;31m---------------------------------------------------------------------------\u001b[0m",
      "\u001b[0;31mValueError\u001b[0m                                Traceback (most recent call last)",
      "\u001b[0;32m<ipython-input-61-f3fc120c03c1>\u001b[0m in \u001b[0;36m<module>\u001b[0;34m()\u001b[0m\n\u001b[0;32m----> 1\u001b[0;31m \u001b[0mfile\u001b[0m\u001b[0;34m.\u001b[0m\u001b[0mread\u001b[0m\u001b[0;34m(\u001b[0m\u001b[0;34m)\u001b[0m\u001b[0;34m\u001b[0m\u001b[0m\n\u001b[0m",
      "\u001b[0;31mValueError\u001b[0m: I/O operation on closed file."
     ]
    }
   ],
   "source": [
    "file.read()"
   ]
  },
  {
   "cell_type": "code",
   "execution_count": 63,
   "metadata": {},
   "outputs": [
    {
     "ename": "UnsupportedOperation",
     "evalue": "not writable",
     "output_type": "error",
     "traceback": [
      "\u001b[0;31m---------------------------------------------------------------------------\u001b[0m",
      "\u001b[0;31mUnsupportedOperation\u001b[0m                      Traceback (most recent call last)",
      "\u001b[0;32m<ipython-input-63-4d2721032dd9>\u001b[0m in \u001b[0;36m<module>\u001b[0;34m()\u001b[0m\n\u001b[1;32m      1\u001b[0m \u001b[0mmystory\u001b[0m \u001b[0;34m=\u001b[0m \u001b[0;34m'This is a story oabout files.'\u001b[0m\u001b[0;34m\u001b[0m\u001b[0m\n\u001b[0;32m----> 2\u001b[0;31m \u001b[0mfile\u001b[0m\u001b[0;34m.\u001b[0m\u001b[0mwrite\u001b[0m\u001b[0;34m(\u001b[0m\u001b[0mmystory\u001b[0m\u001b[0;34m)\u001b[0m\u001b[0;34m\u001b[0m\u001b[0m\n\u001b[0m",
      "\u001b[0;31mUnsupportedOperation\u001b[0m: not writable"
     ]
    }
   ],
   "source": [
    "mystory = 'This is a story oabout files.'\n",
    "file.write(mystory)"
   ]
  },
  {
   "cell_type": "code",
   "execution_count": 67,
   "metadata": {},
   "outputs": [
    {
     "data": {
      "text/plain": [
       "0"
      ]
     },
     "execution_count": 67,
     "metadata": {},
     "output_type": "execute_result"
    }
   ],
   "source": [
    "file.tell()"
   ]
  },
  {
   "cell_type": "code",
   "execution_count": 68,
   "metadata": {},
   "outputs": [
    {
     "data": {
      "text/plain": [
       "10"
      ]
     },
     "execution_count": 68,
     "metadata": {},
     "output_type": "execute_result"
    }
   ],
   "source": [
    "file.seek(10)"
   ]
  },
  {
   "cell_type": "code",
   "execution_count": 69,
   "metadata": {},
   "outputs": [
    {
     "data": {
      "text/plain": [
       "10"
      ]
     },
     "execution_count": 69,
     "metadata": {},
     "output_type": "execute_result"
    }
   ],
   "source": [
    "file.tell()"
   ]
  },
  {
   "cell_type": "code",
   "execution_count": 70,
   "metadata": {},
   "outputs": [
    {
     "data": {
      "text/plain": [
       "'an old owl that lived in an oak. Everyday he saw incidents happening around him.\\nYesterday he saw a boy helping an old man to carry a heavy basket.\\nToday he saw a girl shouting at her mother. The more he saw the less he spoke.\\nAs he spoke less, he heard more. He heard people talking and telling stories.\\nHe heard a woman saying that an elephant jumped over a fence.\\nHe also heard a man saying that he had never made a mistake.\\nThe old owl had seen and heard about what happened to people.\\nSome became better and some became worse. But the old owl had become wiser each and every day.'"
      ]
     },
     "execution_count": 70,
     "metadata": {},
     "output_type": "execute_result"
    }
   ],
   "source": [
    "file.read()"
   ]
  },
  {
   "cell_type": "code",
   "execution_count": 71,
   "metadata": {},
   "outputs": [
    {
     "name": "stdout",
     "output_type": "stream",
     "text": [
      "There was an old owl that lived in an oak. Everyday he saw incidents happening around him.\n",
      "Yesterday he saw a boy helping an old man to carry a heavy basket.\n",
      "Today he saw a girl shouting at her mother. The more he saw the less he spoke.\n",
      "As he spoke less, he heard more. He heard people talking and telling stories.\n",
      "He heard a woman saying that an elephant jumped over a fence.\n",
      "He also heard a man saying that he had never made a mistake.\n",
      "The old owl had seen and heard about what happened to people.\n",
      "Some became better and some became worse. But the old owl had become wiser each and every day.\n",
      "False\n"
     ]
    }
   ],
   "source": [
    "with open('story.txt', 'r') as f:\n",
    "    print(f.read())\n",
    "    print(f.closed)"
   ]
  },
  {
   "cell_type": "code",
   "execution_count": 72,
   "metadata": {},
   "outputs": [
    {
     "data": {
      "text/plain": [
       "True"
      ]
     },
     "execution_count": 72,
     "metadata": {},
     "output_type": "execute_result"
    }
   ],
   "source": [
    "f.closed"
   ]
  },
  {
   "cell_type": "code",
   "execution_count": 76,
   "metadata": {},
   "outputs": [
    {
     "name": "stdout",
     "output_type": "stream",
     "text": [
      "25\n",
      "25\n",
      " lived in an oak. Everyday he saw incidents happening around him.\n",
      "Yesterday he saw a boy helping an old man to carry a heavy basket.\n",
      "Today he saw a girl shouting at her mother. The more he saw the less he spoke.\n",
      "As he spoke less, he heard more. He heard people talking and telling stories.\n",
      "He heard a woman saying that an elephant jumped over a fence.\n",
      "He also heard a man saying that he had never made a mistake.\n",
      "The old owl had seen and heard about what happened to people.\n",
      "Some became better and some became worse. But the old owl had become wiser each and every day.This is a story of files.This is a story of files.\n"
     ]
    }
   ],
   "source": [
    "with open('story.txt', 'r+') as f:\n",
    "    print(f.write('This is a story of files.'))\n",
    "    print(f.tell())\n",
    "    print(f.read())\n",
    "    "
   ]
  },
  {
   "cell_type": "code",
   "execution_count": null,
   "metadata": {},
   "outputs": [],
   "source": []
  }
 ],
 "metadata": {
  "kernelspec": {
   "display_name": "Python 3",
   "language": "python",
   "name": "python3"
  },
  "language_info": {
   "codemirror_mode": {
    "name": "ipython",
    "version": 3
   },
   "file_extension": ".py",
   "mimetype": "text/x-python",
   "name": "python",
   "nbconvert_exporter": "python",
   "pygments_lexer": "ipython3",
   "version": "3.6.5rc1"
  }
 },
 "nbformat": 4,
 "nbformat_minor": 2
}
