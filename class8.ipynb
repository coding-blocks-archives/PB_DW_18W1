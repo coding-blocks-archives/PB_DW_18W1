{
 "cells": [
  {
   "cell_type": "code",
   "execution_count": 1,
   "metadata": {},
   "outputs": [
    {
     "data": {
      "text/plain": [
       "int"
      ]
     },
     "execution_count": 1,
     "metadata": {},
     "output_type": "execute_result"
    }
   ],
   "source": [
    "5"
   ]
  },
  {
   "cell_type": "code",
   "execution_count": 2,
   "metadata": {},
   "outputs": [
    {
     "data": {
      "text/plain": [
       "'Hello'"
      ]
     },
     "execution_count": 2,
     "metadata": {},
     "output_type": "execute_result"
    }
   ],
   "source": [
    "'hello'.capitalize()"
   ]
  },
  {
   "cell_type": "code",
   "execution_count": 3,
   "metadata": {},
   "outputs": [
    {
     "data": {
      "text/plain": [
       "'hellohello'"
      ]
     },
     "execution_count": 3,
     "metadata": {},
     "output_type": "execute_result"
    }
   ],
   "source": [
    "'hello' + 'hello'"
   ]
  },
  {
   "cell_type": "code",
   "execution_count": 4,
   "metadata": {},
   "outputs": [],
   "source": [
    "class FirstClass:\n",
    "    pass"
   ]
  },
  {
   "cell_type": "code",
   "execution_count": 5,
   "metadata": {},
   "outputs": [],
   "source": [
    "object1 = FirstClass()"
   ]
  },
  {
   "cell_type": "code",
   "execution_count": 6,
   "metadata": {},
   "outputs": [
    {
     "name": "stdout",
     "output_type": "stream",
     "text": [
      "<__main__.FirstClass object at 0x107c5b470>\n"
     ]
    }
   ],
   "source": [
    "print(object1)"
   ]
  },
  {
   "cell_type": "code",
   "execution_count": 7,
   "metadata": {},
   "outputs": [],
   "source": [
    "class SecondClass:\n",
    "    def twice(self, a):\n",
    "        return a*2\n",
    "    def thrice(self,a):\n",
    "        return a*3\n",
    "    \n",
    "obj1 = SecondClass()\n",
    "obj2 = SecondClass()"
   ]
  },
  {
   "cell_type": "code",
   "execution_count": 9,
   "metadata": {},
   "outputs": [
    {
     "data": {
      "text/plain": [
       "8"
      ]
     },
     "execution_count": 9,
     "metadata": {},
     "output_type": "execute_result"
    }
   ],
   "source": [
    "obj1.twice(4)"
   ]
  },
  {
   "cell_type": "code",
   "execution_count": 10,
   "metadata": {},
   "outputs": [],
   "source": [
    "# Not valid\n",
    "class ThirdClass:\n",
    "    def twice():\n",
    "        print('twice')\n",
    "\n",
    "t = ThirdClass()"
   ]
  },
  {
   "cell_type": "code",
   "execution_count": 11,
   "metadata": {},
   "outputs": [
    {
     "ename": "TypeError",
     "evalue": "twice() takes 0 positional arguments but 1 was given",
     "output_type": "error",
     "traceback": [
      "\u001b[0;31m---------------------------------------------------------------------------\u001b[0m",
      "\u001b[0;31mTypeError\u001b[0m                                 Traceback (most recent call last)",
      "\u001b[0;32m<ipython-input-11-ee864351fea7>\u001b[0m in \u001b[0;36m<module>\u001b[0;34m()\u001b[0m\n\u001b[0;32m----> 1\u001b[0;31m \u001b[0mt\u001b[0m\u001b[0;34m.\u001b[0m\u001b[0mtwice\u001b[0m\u001b[0;34m(\u001b[0m\u001b[0;34m)\u001b[0m\u001b[0;34m\u001b[0m\u001b[0m\n\u001b[0m",
      "\u001b[0;31mTypeError\u001b[0m: twice() takes 0 positional arguments but 1 was given"
     ]
    }
   ],
   "source": [
    "t.twice()"
   ]
  },
  {
   "cell_type": "code",
   "execution_count": 19,
   "metadata": {},
   "outputs": [
    {
     "name": "stdout",
     "output_type": "stream",
     "text": [
      "canine mark bite\n",
      "********************\n",
      "canine joe bite\n"
     ]
    }
   ],
   "source": [
    "class Dog:\n",
    "    kind = 'canine'\n",
    "    act = 'bite'\n",
    "    def __init__(self, name):\n",
    "        self.name = name\n",
    "\n",
    "d1 = Dog('mark')\n",
    "d2 = Dog('joe')\n",
    "print(d1.kind, d1.name, d1.act)\n",
    "print('*'*20)\n",
    "print(d2.kind , d2.name , d2.act)"
   ]
  },
  {
   "cell_type": "code",
   "execution_count": 27,
   "metadata": {},
   "outputs": [
    {
     "name": "stdout",
     "output_type": "stream",
     "text": [
      "0\n",
      "1\n",
      "0\n"
     ]
    },
    {
     "data": {
      "text/plain": [
       "15"
      ]
     },
     "execution_count": 27,
     "metadata": {},
     "output_type": "execute_result"
    }
   ],
   "source": [
    "class Counter:\n",
    "    def __init__(self):\n",
    "        self.x = 0\n",
    "        \n",
    "    def up(self):\n",
    "        self.x += 1\n",
    "    def down(self):\n",
    "        self.x -= 1\n",
    "c = Counter()\n",
    "print(c.x)\n",
    "c.up()\n",
    "print(c.x)\n",
    "c.down()\n",
    "print(c.x)"
   ]
  },
  {
   "cell_type": "code",
   "execution_count": 49,
   "metadata": {},
   "outputs": [],
   "source": [
    "class Coordinate:\n",
    "    def __init__(self, x = 0,y = 0):\n",
    "        self.x = x\n",
    "        self.y = y\n",
    "    \n",
    "    def __str__(self):\n",
    "        return '['+ str(self.x) + ',' + str(self.y) + ']'\n",
    "    \n",
    "    def __add__(self, other):\n",
    "        return '(' + str(self.x + other.x) + ',' + str(self.y + other.y) + ')'\n",
    "    \n",
    "    def distance(self, other):\n",
    "        x_diff_sq = (self.x - other.x)**2\n",
    "        y_diff_sq = (self.y - other.y)**2\n",
    "        return (x_diff_sq + y_diff_sq)**0.5\n",
    "        "
   ]
  },
  {
   "cell_type": "code",
   "execution_count": null,
   "metadata": {},
   "outputs": [],
   "source": []
  },
  {
   "cell_type": "code",
   "execution_count": 50,
   "metadata": {},
   "outputs": [
    {
     "name": "stdout",
     "output_type": "stream",
     "text": [
      "1 2\n"
     ]
    }
   ],
   "source": [
    "c1  = Coordinate(1,2)\n",
    "print(c1.x , c1.y)"
   ]
  },
  {
   "cell_type": "code",
   "execution_count": 40,
   "metadata": {},
   "outputs": [
    {
     "name": "stdout",
     "output_type": "stream",
     "text": [
      "(3,7)\n"
     ]
    }
   ],
   "source": [
    "c2 = Coordinate(2,5)\n",
    "print(c1 + c2)"
   ]
  },
  {
   "cell_type": "code",
   "execution_count": 35,
   "metadata": {},
   "outputs": [
    {
     "ename": "TypeError",
     "evalue": "unsupported operand type(s) for +: 'int' and 'str'",
     "output_type": "error",
     "traceback": [
      "\u001b[0;31m---------------------------------------------------------------------------\u001b[0m",
      "\u001b[0;31mTypeError\u001b[0m                                 Traceback (most recent call last)",
      "\u001b[0;32m<ipython-input-35-361be55d486a>\u001b[0m in \u001b[0;36m<module>\u001b[0;34m()\u001b[0m\n\u001b[0;32m----> 1\u001b[0;31m \u001b[0;36m6\u001b[0m \u001b[0;34m+\u001b[0m \u001b[0;34m'hello'\u001b[0m\u001b[0;34m\u001b[0m\u001b[0m\n\u001b[0m",
      "\u001b[0;31mTypeError\u001b[0m: unsupported operand type(s) for +: 'int' and 'str'"
     ]
    }
   ],
   "source": [
    "6 + 'hello'"
   ]
  },
  {
   "cell_type": "code",
   "execution_count": 41,
   "metadata": {},
   "outputs": [
    {
     "data": {
      "text/plain": [
       "3.1622776601683795"
      ]
     },
     "execution_count": 41,
     "metadata": {},
     "output_type": "execute_result"
    }
   ],
   "source": [
    "c1.distance(c2)"
   ]
  },
  {
   "cell_type": "code",
   "execution_count": 51,
   "metadata": {},
   "outputs": [
    {
     "name": "stdout",
     "output_type": "stream",
     "text": [
      "[1,2] helo\n"
     ]
    }
   ],
   "source": [
    "print(c1 , 'helo')"
   ]
  },
  {
   "cell_type": "code",
   "execution_count": null,
   "metadata": {},
   "outputs": [],
   "source": []
  },
  {
   "cell_type": "code",
   "execution_count": 65,
   "metadata": {},
   "outputs": [],
   "source": [
    "class Stack:\n",
    "    def __init__(self):\n",
    "        self.stack = []\n",
    "    def push(self, x):\n",
    "        self.stack.append(x)\n",
    "        return self.stack\n",
    "    def pop(self):\n",
    "        return self.stack.pop()\n",
    "    def top(self):\n",
    "        return self.stack[len(self.stack) -1]\n",
    "    def __str__(self):\n",
    "        s = ''\n",
    "        for i in reversed(self.stack):\n",
    "            s += str(i)\n",
    "            s += '\\n'\n",
    "        return s"
   ]
  },
  {
   "cell_type": "code",
   "execution_count": 66,
   "metadata": {},
   "outputs": [
    {
     "name": "stdout",
     "output_type": "stream",
     "text": [
      "********************\n",
      "10\n",
      "15\n",
      "10\n",
      "5\n",
      "\n"
     ]
    }
   ],
   "source": [
    "s1 = Stack()\n",
    "s1.push(5)\n",
    "s1.push(10)\n",
    "s1.push(15)\n",
    "s1.push(10)\n",
    "s1.push(15)\n",
    "s1.pop()\n",
    "#s1.top()\n",
    "print(\"*\"*20)\n",
    "print(s1)"
   ]
  },
  {
   "cell_type": "code",
   "execution_count": 67,
   "metadata": {},
   "outputs": [
    {
     "data": {
      "text/plain": [
       "['roll', 'play']"
      ]
     },
     "execution_count": 67,
     "metadata": {},
     "output_type": "execute_result"
    }
   ],
   "source": [
    "class Dog:\n",
    "    tricks = []\n",
    "    \n",
    "    def __init__(self, name):\n",
    "        self.name = name\n",
    "        \n",
    "    def add_trick(self, trick):\n",
    "        self.tricks.append(trick)\n",
    "        \n",
    "d = Dog('fido')\n",
    "\n",
    "e = Dog('budyy')\n",
    "\n",
    "d.add_trick('roll')\n",
    "\n",
    "\n",
    "e.add_trick('play')\n",
    "\n",
    "d.tricks"
   ]
  },
  {
   "cell_type": "code",
   "execution_count": 68,
   "metadata": {},
   "outputs": [],
   "source": [
    "class Animal:\n",
    "    def __init__(self):\n",
    "        print('    object constructed')\n",
    "    def party(self):\n",
    "        self.x = 5\n",
    "    def __del__(self):\n",
    "        print('I am dying...................')"
   ]
  },
  {
   "cell_type": "code",
   "execution_count": 71,
   "metadata": {},
   "outputs": [
    {
     "name": "stdout",
     "output_type": "stream",
     "text": [
      "    object constructed\n"
     ]
    }
   ],
   "source": [
    "a = Animal()"
   ]
  },
  {
   "cell_type": "code",
   "execution_count": 70,
   "metadata": {},
   "outputs": [
    {
     "name": "stdout",
     "output_type": "stream",
     "text": [
      "I am dying...................\n"
     ]
    }
   ],
   "source": [
    "del a"
   ]
  },
  {
   "cell_type": "code",
   "execution_count": 72,
   "metadata": {},
   "outputs": [
    {
     "name": "stdout",
     "output_type": "stream",
     "text": [
      "I am dying...................\n"
     ]
    }
   ],
   "source": [
    "a = 5"
   ]
  },
  {
   "cell_type": "code",
   "execution_count": 78,
   "metadata": {},
   "outputs": [
    {
     "name": "stdout",
     "output_type": "stream",
     "text": [
      "new bird\n",
      "parent bird\n",
      "swimming\n",
      "new bird\n",
      "penguin is here.\n",
      "parent bird\n",
      "swimming\n",
      "run run\n"
     ]
    },
    {
     "data": {
      "text/plain": [
       "2"
      ]
     },
     "execution_count": 78,
     "metadata": {},
     "output_type": "execute_result"
    }
   ],
   "source": [
    "class Bird:\n",
    "    \n",
    "    def __init__(self):\n",
    "        self.legs = 2\n",
    "        print('new bird')\n",
    "    \n",
    "    def who(self):\n",
    "        print('parent bird')\n",
    "    \n",
    "    def swim(self):\n",
    "        print('swimming')\n",
    "    \n",
    "class Penguin(Bird):\n",
    "    def __init__(self):\n",
    "        super().__init__()\n",
    "        print('penguin is here.')\n",
    "    \n",
    "    def run(self):\n",
    "        print('run run')\n",
    "\n",
    "b1 = Bird()\n",
    "b1.who()\n",
    "b1.swim()\n",
    "\n",
    "p1 = Penguin()\n",
    "p1.who()\n",
    "p1.swim()\n",
    "p1.run()\n",
    "p1.legs"
   ]
  },
  {
   "cell_type": "code",
   "execution_count": 82,
   "metadata": {},
   "outputs": [
    {
     "name": "stdout",
     "output_type": "stream",
     "text": [
      "animal class act\n",
      "act of dog\n"
     ]
    }
   ],
   "source": [
    "class Animal:\n",
    "    def act(self):\n",
    "        print('animal class act')\n",
    "\n",
    "class Dog(Animal):\n",
    "    def act(self):\n",
    "        super().act()\n",
    "        print('act of dog')\n",
    "        \n",
    "myanimal = Animal()\n",
    "myDog = Dog()\n",
    "myDog.act()\n",
    "#myanimal.act()"
   ]
  },
  {
   "cell_type": "code",
   "execution_count": 83,
   "metadata": {},
   "outputs": [
    {
     "name": "stdout",
     "output_type": "stream",
     "text": [
      "new bird\n",
      "penguin\n",
      "child penguin\n",
      "swimming\n",
      "run run\n"
     ]
    }
   ],
   "source": [
    "class Bird:\n",
    "    \n",
    "    def __init__(self):\n",
    "        self.legs = 2\n",
    "        print('new bird')\n",
    "    \n",
    "    def who(self):\n",
    "        print('parent bird')\n",
    "    \n",
    "    def swim(self):\n",
    "        print('swimming')\n",
    "\n",
    "class Penguin(Bird):\n",
    "    def __init__(self):\n",
    "        super().__init__()\n",
    "        print('penguin')\n",
    "        \n",
    "    def who(self):\n",
    "        print('child penguin')\n",
    "        \n",
    "    def run(self):\n",
    "        print('run run')\n",
    "\n",
    "pingu = Penguin()\n",
    "pingu.who()\n",
    "pingu.swim()\n",
    "pingu.run()"
   ]
  },
  {
   "cell_type": "code",
   "execution_count": 85,
   "metadata": {},
   "outputs": [
    {
     "name": "stdout",
     "output_type": "stream",
     "text": [
      "f of A\n",
      "f of B\n",
      "f of B\n",
      "f of C\n"
     ]
    }
   ],
   "source": [
    "class A:\n",
    "    def f(self):\n",
    "        print('f of A')\n",
    "        \n",
    "class B(A):\n",
    "    def f(self):\n",
    "        print('f of B')\n",
    "\n",
    "class C(B):\n",
    "    def f (self):\n",
    "        super().f()\n",
    "        print('f of C')\n",
    "\n",
    "obj_a = A()\n",
    "obj_b = B()\n",
    "obj_c = C()\n",
    "\n",
    "obj_a.f()\n",
    "obj_b.f()\n",
    "obj_c.f()"
   ]
  },
  {
   "cell_type": "code",
   "execution_count": 86,
   "metadata": {},
   "outputs": [
    {
     "data": {
      "text/plain": [
       "True"
      ]
     },
     "execution_count": 86,
     "metadata": {},
     "output_type": "execute_result"
    }
   ],
   "source": [
    "isinstance(4, int)"
   ]
  },
  {
   "cell_type": "code",
   "execution_count": 88,
   "metadata": {},
   "outputs": [
    {
     "data": {
      "text/plain": [
       "True"
      ]
     },
     "execution_count": 88,
     "metadata": {},
     "output_type": "execute_result"
    }
   ],
   "source": [
    "isinstance(obj_c, A)"
   ]
  },
  {
   "cell_type": "code",
   "execution_count": 89,
   "metadata": {},
   "outputs": [
    {
     "data": {
      "text/plain": [
       "True"
      ]
     },
     "execution_count": 89,
     "metadata": {},
     "output_type": "execute_result"
    }
   ],
   "source": [
    "issubclass(C,B)"
   ]
  },
  {
   "cell_type": "code",
   "execution_count": 90,
   "metadata": {},
   "outputs": [
    {
     "data": {
      "text/plain": [
       "True"
      ]
     },
     "execution_count": 90,
     "metadata": {},
     "output_type": "execute_result"
    }
   ],
   "source": [
    "issubclass(bool, int)"
   ]
  },
  {
   "cell_type": "code",
   "execution_count": 91,
   "metadata": {},
   "outputs": [],
   "source": [
    "class mylist(list):\n",
    "    def __sub__(self, other):\n",
    "        return [i-j for i,j in zip(self,other)] if len(self) == len(other) else print('nahi ho skta')\n"
   ]
  },
  {
   "cell_type": "code",
   "execution_count": 93,
   "metadata": {},
   "outputs": [
    {
     "name": "stdout",
     "output_type": "stream",
     "text": [
      "nahi ho skta\n"
     ]
    }
   ],
   "source": [
    "mylist([1,2,3]) - mylist([0,1,2,8])"
   ]
  },
  {
   "cell_type": "code",
   "execution_count": null,
   "metadata": {},
   "outputs": [],
   "source": [
    "class Alpha:\n",
    "    def fun(self):\n",
    "        print('fun fun')\n",
    "        \n",
    "a = Alpha()\n",
    "a.fun()   =========== Alpha.fun(a)"
   ]
  }
 ],
 "metadata": {
  "kernelspec": {
   "display_name": "Python 3",
   "language": "python",
   "name": "python3"
  },
  "language_info": {
   "codemirror_mode": {
    "name": "ipython",
    "version": 3
   },
   "file_extension": ".py",
   "mimetype": "text/x-python",
   "name": "python",
   "nbconvert_exporter": "python",
   "pygments_lexer": "ipython3",
   "version": "3.6.5rc1"
  }
 },
 "nbformat": 4,
 "nbformat_minor": 2
}
